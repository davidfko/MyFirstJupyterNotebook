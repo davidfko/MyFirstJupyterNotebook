{
    "cells": [
        {
            "cell_type": "markdown",
            "metadata": {
                "collapsed": true
            },
            "source": "# My Jupyter Notebook on IBM Watson Studio"
        },
        {
            "cell_type": "markdown",
            "metadata": {},
            "source": "**David**\n<br>to be a data scientist"
        },
        {
            "cell_type": "markdown",
            "metadata": {},
            "source": "*I am interested in data science because I can find out insight from data*"
        },
        {
            "cell_type": "markdown",
            "metadata": {},
            "source": "### Calculate 1+1"
        },
        {
            "cell_type": "code",
            "execution_count": 3,
            "metadata": {},
            "outputs": [
                {
                    "data": {
                        "text/plain": "2"
                    },
                    "execution_count": 3,
                    "metadata": {},
                    "output_type": "execute_result"
                }
            ],
            "source": "1+1"
        },
        {
            "cell_type": "markdown",
            "metadata": {},
            "source": "**Bullet List**\n- bullet 1\n- bullet 2\n- bullet 3\n\n**Numbered List**\n1. Number 1\n2. Number 2\n3. Number 3\n\n**Table**\n|Column 1| Column 2|\n|---| ---|\n|Row 1-1| Row 1-2|\n|Row 2-1| Row 2-2|\n|Row 3-1| Row 3-2|\n\n**URL**\n<br>[This is a hyperlink](http://www.url.com)\n\n**Image**\n<img src=\"https://i.stack.imgur.com/VVzTb.png\" alt text=\"image\" title=\"title\">"
        },
        {
            "cell_type": "code",
            "execution_count": null,
            "metadata": {},
            "outputs": [],
            "source": ""
        }
    ],
    "metadata": {
        "kernelspec": {
            "display_name": "Python 3.10",
            "language": "python",
            "name": "python3"
        },
        "language_info": {
            "codemirror_mode": {
                "name": "ipython",
                "version": 3
            },
            "file_extension": ".py",
            "mimetype": "text/x-python",
            "name": "python",
            "nbconvert_exporter": "python",
            "pygments_lexer": "ipython3",
            "version": "3.10.9"
        }
    },
    "nbformat": 4,
    "nbformat_minor": 1
}